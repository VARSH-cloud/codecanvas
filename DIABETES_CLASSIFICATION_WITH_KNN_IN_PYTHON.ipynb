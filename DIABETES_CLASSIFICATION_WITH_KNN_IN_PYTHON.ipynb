{
  "nbformat": 4,
  "nbformat_minor": 0,
  "metadata": {
    "colab": {
      "provenance": [],
      "authorship_tag": "ABX9TyOJM4hqeGFl/4an9JAD5PRp",
      "include_colab_link": true
    },
    "kernelspec": {
      "name": "python3",
      "display_name": "Python 3"
    },
    "language_info": {
      "name": "python"
    }
  },
  "cells": [
    {
      "cell_type": "markdown",
      "metadata": {
        "id": "view-in-github",
        "colab_type": "text"
      },
      "source": [
        "<a href=\"https://colab.research.google.com/github/VARSH-cloud/codecanvas/blob/main/DIABETES_CLASSIFICATION_WITH_KNN_IN_PYTHON.ipynb\" target=\"_parent\"><img src=\"https://colab.research.google.com/assets/colab-badge.svg\" alt=\"Open In Colab\"/></a>"
      ]
    },
    {
      "cell_type": "code",
      "execution_count": 5,
      "metadata": {
        "colab": {
          "base_uri": "https://localhost:8080/"
        },
        "id": "1--uP2_3sowB",
        "outputId": "4b3a3b04-f75b-4f39-9e2b-3420c0b6d773"
      },
      "outputs": [
        {
          "output_type": "stream",
          "name": "stdout",
          "text": [
            "Drive already mounted at /content/drive; to attempt to forcibly remount, call drive.mount(\"/content/drive\", force_remount=True).\n",
            "Enter value for Cholesterol: 250 mg/dl\n",
            "Enter value for Glucose: 135 mg/dl\n",
            "Enter value for HDL Chol: 45mg/dl\n",
            "Enter value for Chol/HDL ratio: 5.6\n",
            "Enter value for Age: 52\n",
            "Enter value for Height: 160cm\n",
            "Enter value for Weight: 80kg\n",
            "Enter value for BMI: 31.2\n",
            "Enter value for Systolic BP: 145mmHg\n",
            "Enter value for Diastolic BP: 90mmHg\n",
            "Enter value for waist: 100cm\n",
            "Enter value for hip: 110cm\n",
            "Enter value for Waist/hip ratio: 0\n",
            "Enter value for Gender_female: female\n",
            "Enter value for Gender_male: -\n",
            "\n",
            "🔍 Prediction Result:\n",
            "⚠ Diabetes Detected\n"
          ]
        }
      ],
      "source": [
        "import pandas as pd\n",
        "from sklearn.model_selection import train_test_split\n",
        "from sklearn.preprocessing import StandardScaler\n",
        "from sklearn.neighbors import KNeighborsClassifier\n",
        "from sklearn.metrics import accuracy_score\n",
        "\n",
        "# 1. Load Data\n",
        "from google.colab import drive\n",
        "drive.mount('/content/drive')\n",
        "\n",
        "df = pd.read_csv('/content/diabetes_sample_data.csv')\n",
        "\n",
        "# 2. Separate Features and Target\n",
        "X = df.drop(\"Diabetes\", axis=1)\n",
        "y = df[\"Diabetes\"]\n",
        "\n",
        "# 3. Encode categorical variables\n",
        "X = pd.get_dummies(X)\n",
        "\n",
        "# 4. Split data\n",
        "X_train, X_test, y_train, y_test = train_test_split(X, y, test_size=0.2, random_state=42)\n",
        "\n",
        "# 5. Scale features\n",
        "scaler = StandardScaler()\n",
        "X_train_scaled = scaler.fit_transform(X_train)\n",
        "X_test_scaled = scaler.transform(X_test)\n",
        "\n",
        "# 6. Train Model\n",
        "knn = KNeighborsClassifier(n_neighbors=1)\n",
        "knn.fit(X_train_scaled, y_train)\n",
        "\n",
        "# 7. Ask for user input\n",
        "input_data = {}\n",
        "for column in X.columns:\n",
        "    value = input(f\"Enter value for {column}: \")\n",
        "    input_data[column] = value\n",
        "\n",
        "# 8. Convert input to DataFrame\n",
        "input_df = pd.DataFrame([input_data])\n",
        "\n",
        "# 9. Match dummies and convert types\n",
        "input_df = pd.get_dummies(input_df)\n",
        "input_df = input_df.reindex(columns=X.columns, fill_value=0)\n",
        "\n",
        "# Convert to correct types (numeric)\n",
        "input_df = input_df.astype(float)\n",
        "\n",
        "# 10. Scale input\n",
        "input_scaled = scaler.transform(input_df)\n",
        "\n",
        "# 11. Predict\n",
        "prediction = knn.predict(input_scaled)[0]\n",
        "\n",
        "# 12. Output result\n",
        "print(\"\\n🔍 Prediction Result:\")\n",
        "print(\"✅ No Diabetes\" if prediction == 0 else \"⚠ Diabetes Detected\")\n"
      ]
    }
  ]
}